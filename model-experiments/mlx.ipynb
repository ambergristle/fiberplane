{
 "cells": [
  {
   "cell_type": "code",
   "execution_count": 1,
   "metadata": {},
   "outputs": [
    {
     "data": {
      "application/vnd.jupyter.widget-view+json": {
       "model_id": "0da0806426cf48439449cda2dc67c050",
       "version_major": 2,
       "version_minor": 0
      },
      "text/plain": [
       "Fetching 6 files:   0%|          | 0/6 [00:00<?, ?it/s]"
      ]
     },
     "metadata": {},
     "output_type": "display_data"
    },
    {
     "name": "stderr",
     "output_type": "stream",
     "text": [
      "Special tokens have been added in the vocabulary, make sure the associated word embeddings are fine-tuned or trained.\n"
     ]
    }
   ],
   "source": [
    "from mlx_lm import load, generate\n",
    "\n",
    "# model_id = \"mlx-community/codegemma-7b-it-8bit\"\n",
    "model_id = \"mlx-community/Meta-Llama-3-8B-Instruct-4bit\"\n",
    "\n",
    "model, tokenizer = load(model_id)"
   ]
  },
  {
   "cell_type": "code",
   "execution_count": 3,
   "metadata": {},
   "outputs": [],
   "source": [
    "from shared import fill_template\n",
    "\n",
    "def get_prompt_llama(template):\n",
    "    prompt = \"\"\n",
    "    for item in template:\n",
    "        prompt += f\"<|start_header_id|>{item['role']}<|end_header_id|>{item['content']}<|eot_id|>\\n\"\n",
    "    prompt += \"<|start_header_id|>assistant<|end_header_id|>\"\n",
    "    return prompt\n",
    "\n",
    "def get_prompt_gemma(template):\n",
    "    prompt = \"<bos>\"\n",
    "    for item in template:\n",
    "        prompt += f\"<start_of_turn>user\\n{item['content']}<end_of_turn>\\n\"\n",
    "    prompt += \"<start_of_turn>model\\n\"\n",
    "    return prompt\n",
    "\n",
    "\n",
    "prompt = get_prompt_llama(\n",
    "    fill_template(\n",
    "        \"GET\",\n",
    "        \"/api/geese/:id\",\n",
    "        \"\"\"\n",
    "async (c) => {\n",
    "  const sql = neon(c.env.DATABASE_URL)\n",
    "  const db = drizzle(sql);\n",
    "\n",
    "  const id = c.req.param('id');\n",
    "\n",
    "  const goose = (await db.select().from(geese).where(eq(geese.id, +id)))?.[0];\n",
    "\n",
    "  if (!goose) {\n",
    "    return c.json({ message: 'Goose not found' }, 404);\n",
    "  }\n",
    "\n",
    "  return c.json(goose);\n",
    "}\n",
    "\"\"\",\n",
    "    )\n",
    ")"
   ]
  },
  {
   "cell_type": "code",
   "execution_count": 4,
   "metadata": {},
   "outputs": [
    {
     "name": "stdout",
     "output_type": "stream",
     "text": [
      "==========\n",
      "Prompt: <|start_header_id|>system<|end_header_id|>\n",
      "You are an expert QA Engineer and code debugging assistant for apps that use Hono (web framework), \n",
      "Neon (serverless postgres), Drizzle (ORM), and run on Cloudflare workers.\n",
      "\n",
      "You need to help craft a request to route handlers. \n",
      "You will be provided the source code for handlers, and you should generate\n",
      "query parameters and a request body that will test the request.\n",
      "\n",
      "Be clever and creative with test data. Avoid just writing things like \"test\".\n",
      "\n",
      "For example, if you get a route like `/users/:id`, you should return a URL like:\n",
      "`/users/1234567890` and a routeParams parameter like this:\n",
      "\n",
      "{ \"routeParams\": { \"key\": \":id\", \"value\": \"1234567890\" } }\n",
      "\n",
      "You should focus on trying to break things. You are a QA. \n",
      "You are the enemy of bugs. To protect quality, you must find bugs.\n",
      "Try things like specifying invalid data, or missing data, or invalid data types,\n",
      "or extremely long data. Try to break the system. Return as many test cases as needed to fully test the handler.\n",
      "<|eot_id|>\n",
      "<|start_header_id|>user<|end_header_id|>\n",
      "I need to make a request to one of my Hono api handlers.\n",
      "\n",
      "Here are some recent requests/responses, which you can use as inspiration for future requests.\n",
      "\n",
      "<history>\n",
      "No history\n",
      "</history>\n",
      "\n",
      "The request you make should be a GET request to route: /api/geese/:id\n",
      "\n",
      "Here is the code for the handler:\n",
      "`\n",
      "\n",
      "async (c) => {\n",
      "  const sql = neon(c.env.DATABASE_URL)\n",
      "  const db = drizzle(sql);\n",
      "\n",
      "  const id = c.req.param('id');\n",
      "\n",
      "  const goose = (await db.select().from(geese).where(eq(geese.id, +id)))?.[0];\n",
      "\n",
      "  if (!goose) {\n",
      "    return c.json({ message: 'Goose not found' }, 404);\n",
      "  }\n",
      "\n",
      "  return c.json(goose);\n",
      "}\n",
      "\n",
      "`\n",
      "<|eot_id|>\n",
      "<|start_header_id|>assistant<|end_header_id|>\n",
      "\n",
      "\n",
      "I'd be happy to help you craft a request to test this handler. \n",
      "\n",
      "Here's a test case:\n",
      "\n",
      "**Request:**\n",
      "* Method: GET\n",
      "* URL: `/api/geese/1234567890`\n",
      "* Query Parameters: `routeParams`: `{ \"key\": \":id\", \"value\": \"1234567890\" }`\n",
      "\n",
      "**Expected Response:**\n",
      "* Status Code: 200\n",
      "* Response Body: A JSON object representing a goose with `id` equal to `1234567890`. For example:\n",
      "```json\n",
      "{\n",
      "  \"id\": 1234567890,\n",
      "  \"name\": \"Goosey McGooseface\",\n",
      "  \"species\": \"Anser anser\"\n",
      "}\n",
      "```\n",
      "This test case is a basic GET request to retrieve a goose with a valid `id`. \n",
      "\n",
      "Next, I'll try to break the system by testing some edge cases:\n",
      "\n",
      "**Request:**\n",
      "* Method: GET\n",
      "* URL: `/api/geese/abc` (invalid `id`)\n",
      "\n",
      "**Expected Response:**\n",
      "* Status Code: 404\n",
      "* Response Body: A JSON object with a message indicating that the goose was not found.\n",
      "\n",
      "**Request:**\n",
      "* Method: GET\n",
      "* URL: `/api/geese/` (missing `id`)\n",
      "\n",
      "**Expected Response:**\n",
      "* Status Code: 404\n",
      "* Response Body: A JSON object with a message indicating that the goose was not found.\n",
      "\n",
      "Let me know if you'd like me to generate more test cases!\n",
      "==========\n",
      "Prompt: 207.560 tokens-per-sec\n",
      "Generation: 30.408 tokens-per-sec\n"
     ]
    },
    {
     "data": {
      "text/plain": [
       "'\\n\\nI\\'d be happy to help you craft a request to test this handler. \\n\\nHere\\'s a test case:\\n\\n**Request:**\\n* Method: GET\\n* URL: `/api/geese/1234567890`\\n* Query Parameters: `routeParams`: `{ \"key\": \":id\", \"value\": \"1234567890\" }`\\n\\n**Expected Response:**\\n* Status Code: 200\\n* Response Body: A JSON object representing a goose with `id` equal to `1234567890`. For example:\\n```json\\n{\\n  \"id\": 1234567890,\\n  \"name\": \"Goosey McGooseface\",\\n  \"species\": \"Anser anser\"\\n}\\n```\\nThis test case is a basic GET request to retrieve a goose with a valid `id`. \\n\\nNext, I\\'ll try to break the system by testing some edge cases:\\n\\n**Request:**\\n* Method: GET\\n* URL: `/api/geese/abc` (invalid `id`)\\n\\n**Expected Response:**\\n* Status Code: 404\\n* Response Body: A JSON object with a message indicating that the goose was not found.\\n\\n**Request:**\\n* Method: GET\\n* URL: `/api/geese/` (missing `id`)\\n\\n**Expected Response:**\\n* Status Code: 404\\n* Response Body: A JSON object with a message indicating that the goose was not found.\\n\\nLet me know if you\\'d like me to generate more test cases!'"
      ]
     },
     "execution_count": 4,
     "metadata": {},
     "output_type": "execute_result"
    }
   ],
   "source": [
    "response = generate(\n",
    "    model, tokenizer, prompt=prompt, verbose=True, max_tokens=4096, temp=0\n",
    ")\n",
    "response"
   ]
  }
 ],
 "metadata": {
  "kernelspec": {
   "display_name": "model-experiments-HuNPz4NV-py3.12",
   "language": "python",
   "name": "python3"
  },
  "language_info": {
   "codemirror_mode": {
    "name": "ipython",
    "version": 3
   },
   "file_extension": ".py",
   "mimetype": "text/x-python",
   "name": "python",
   "nbconvert_exporter": "python",
   "pygments_lexer": "ipython3",
   "version": "3.12.4"
  }
 },
 "nbformat": 4,
 "nbformat_minor": 2
}
