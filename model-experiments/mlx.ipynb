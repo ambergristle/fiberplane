{
 "cells": [
  {
   "cell_type": "code",
   "execution_count": 13,
   "metadata": {},
   "outputs": [
    {
     "data": {
      "application/vnd.jupyter.widget-view+json": {
       "model_id": "f4ecfecf329c48fcbc4c885636f3776e",
       "version_major": 2,
       "version_minor": 0
      },
      "text/plain": [
       "Fetching 8 files:   0%|          | 0/8 [00:00<?, ?it/s]"
      ]
     },
     "metadata": {},
     "output_type": "display_data"
    }
   ],
   "source": [
    "from mlx_lm import load, stream_generate\n",
    "\n",
    "# model_id = \"mlx-community/codegemma-7b-it-8bit\"\n",
    "model_id = \"mlx-community/codegemma-7b-it-4bit\"\n",
    "# model_id = \"mlx-community/Meta-Llama-3-8B-Instruct-4bit\"\n",
    "\n",
    "model, tokenizer = load(model_id)"
   ]
  },
  {
   "cell_type": "code",
   "execution_count": 14,
   "metadata": {},
   "outputs": [
    {
     "name": "stdout",
     "output_type": "stream",
     "text": [
      "## Request to /api/geese/:id\n",
      "\n",
      "**URL:**\n",
      "\n",
      "`/api/geese/1234567890`\n",
      "\n",
      "**Route Params:**\n",
      "\n",
      "```json\n",
      "{\n",
      "  \"routeParams\": {\n",
      "    \"key\": \":id\",\n",
      "    \"value\": \"1234567890\"\n",
      "  }\n",
      "}\n",
      "```\n",
      "\n",
      "**Explanation:**\n",
      "\n",
      "* The URL path includes the \":id\" parameter, which is set to a random 10-digit number.\n",
      "* The routeParams object contains the key-value pair for the \":id\" parameter.\n",
      "\n",
      "**Additional Notes:**\n",
      "\n",
      "* This request will trigger the handler and return a JSON response with the goose data for the specified ID.\n",
      "* If the goose with the given ID does not exist, the handler will return a 404 Not Found response with a message.## Request to update a goose\n",
      "\n",
      "**URL:**\n",
      "\n",
      "`/api/geese/1234567890`\n",
      "\n",
      "**Method:** PATCH\n",
      "\n",
      "**Headers:**\n",
      "\n",
      "* Content-Type: application/json\n",
      "\n",
      "**Body:**\n",
      "\n",
      "```json\n",
      "{\n",
      "  \"name\": \"Updated Goose Name\"\n",
      "}\n",
      "```\n",
      "\n",
      "**Explanation:**\n",
      "\n",
      "* The URL path includes the goose ID `1234567890`, which matches the `id` parameter in the handler.\n",
      "* The request body contains a JSON object with a `name` key and a new name value. This will update the `name` field of the goose with the provided ID.\n",
      "\n",
      "**Note:**\n",
      "\n",
      "* The goose ID is a placeholder. You can replace it with any valid goose ID in your database.\n",
      "* The new name is also a placeholder. You can replace it with any desired new name."
     ]
    }
   ],
   "source": [
    "from shared import fill_template, test_cases, get_template, get_prompt\n",
    "\n",
    "make_prompt = get_template(model_id)\n",
    "prompt_type = \"friendly\"\n",
    "system_prompt = get_prompt(prompt_type)\n",
    "\n",
    "eval_results = []\n",
    "for case in test_cases:\n",
    "    prompt = make_prompt(fill_template(*case, prompt=system_prompt))\n",
    "    response = \"\"\n",
    "    for t in stream_generate(model, tokenizer, prompt, max_tokens=8192, temp=0):\n",
    "        response += t\n",
    "        print(t, end=\"\", flush=True)\n",
    "    eval_results.append((prompt, response))"
   ]
  },
  {
   "cell_type": "code",
   "execution_count": 15,
   "metadata": {},
   "outputs": [],
   "source": [
    "import json\n",
    "import datetime\n",
    "\n",
    "timestamp = datetime.datetime.now().isoformat()\n",
    "with open(f\"./evals/{timestamp}-{model_id.replace(\"/\", \"-\")}-{prompt_type}.json\", \"w\", encoding=\"utf-8\") as f:\n",
    "    json.dump(eval_results, f)"
   ]
  },
  {
   "cell_type": "code",
   "execution_count": 19,
   "metadata": {},
   "outputs": [
    {
     "name": "stdout",
     "output_type": "stream",
     "text": [
      "## Request to /api/geese/:id\n",
      "\n",
      "**URL:**\n",
      "\n",
      "`/api/geese/1234567890`\n",
      "\n",
      "**Route Params:**\n",
      "\n",
      "```json\n",
      "{\n",
      "  \"routeParams\": {\n",
      "    \"key\": \":id\",\n",
      "    \"value\": \"1234567890\"\n",
      "  }\n",
      "}\n",
      "```\n",
      "\n",
      "**Explanation:**\n",
      "\n",
      "* The URL path includes the \":id\" parameter, which is set to a random 10-digit number.\n",
      "* The routeParams object contains the key-value pair for the \":id\" parameter.\n",
      "\n",
      "**Additional Notes:**\n",
      "\n",
      "* This request will trigger the handler and return a JSON response with the goose data for the specified ID.\n",
      "* If the goose with the given ID does not exist, the handler will return a 404 Not Found response with a message.\n"
     ]
    }
   ],
   "source": [
    "print(eval_results[0][1])"
   ]
  }
 ],
 "metadata": {
  "kernelspec": {
   "display_name": "model-experiments-HuNPz4NV-py3.12",
   "language": "python",
   "name": "python3"
  },
  "language_info": {
   "codemirror_mode": {
    "name": "ipython",
    "version": 3
   },
   "file_extension": ".py",
   "mimetype": "text/x-python",
   "name": "python",
   "nbconvert_exporter": "python",
   "pygments_lexer": "ipython3",
   "version": "3.12.4"
  }
 },
 "nbformat": 4,
 "nbformat_minor": 2
}
