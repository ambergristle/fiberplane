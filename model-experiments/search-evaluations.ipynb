{
 "cells": [
  {
   "cell_type": "markdown",
   "id": "bcf19fcc-10c3-4d57-9b90-b2aa93d36e86",
   "metadata": {},
   "source": [
    "# Model evaluation for search\n",
    "\n",
    "This is a quick experiment to see which model performs best in terms of matching error stack traces with issues.\n",
    "\n",
    "The models are bein evaluated on a dataset of issues from the following repos:\n",
    "- honojs/hono\n",
    "- honojs/middleware\n",
    "- drizzle-team/drizzle-orm\n",
    "- drizzle-team/drizzle-kit-mirror\n",
    "- neondatabase/serverless\n",
    "\n",
    "The key criteria are:\n",
    "- accuracy of retrieval: aiming for at least 0.75/0.8 similarity score\n",
    "- speed of retrieval: aiming for at least 0.5 seconds\n"
   ]
  },
  {
   "cell_type": "markdown",
   "id": "5b0b4c7c",
   "metadata": {},
   "source": [
    "The models being evaluated are:\n",
    "- all-MiniLM-L6-v2\n",
    "- "
   ]
  },
  {
   "cell_type": "code",
   "execution_count": 1,
   "id": "5c847e81-0be0-487c-8e55-2189e0f0c409",
   "metadata": {},
   "outputs": [
    {
     "data": {
      "text/plain": [
       "\u001b[33m1\u001b[39m"
      ]
     },
     "execution_count": 1,
     "metadata": {},
     "output_type": "execute_result"
    }
   ],
   "source": [
    "import { create, insertMultiple, search } from 'npm:@orama/orama'\n",
    "import { restoreFromFile } from 'npm:@orama/plugin-data-persistence'\n",
    "import { pipeline, env } from \"https://cdn.jsdelivr.net/npm/@xenova/transformers\";\n",
    "env.backends.onnx.wasm.numThreads = 1;\n"
   ]
  },
  {
   "cell_type": "code",
   "execution_count": null,
   "metadata": {},
   "outputs": [],
   "source": [
    "const files = [\n",
    "  \"drizzle-team-drizzle-orm.json\",\n",
    "  \"drizzle-team-drizzle-kit-mirror.json\",\n",
    "  \"honojs-hono.json\",\n",
    "  \"honojs-middleware.json\",\n",
    "  \"neondatabase-serverless.json\",\n",
    "];\n"
   ]
  },
  {
   "cell_type": "code",
   "execution_count": null,
   "id": "3dabcf56-0e7c-4e34-953e-66b8da3dfa29",
   "metadata": {},
   "outputs": [],
   "source": [
    "const miniLmEmbedder = await pipeline(\"feature-extraction\", \"Xenova/all-MiniLM-L6-v2\")\n",
    "const optionsMiniLmEmbedder = { pooling: \"mean\", normalize: true}\n"
   ]
  }
 ],
 "metadata": {
  "kernelspec": {
   "display_name": "Deno",
   "language": "typescript",
   "name": "deno"
  },
  "language_info": {
   "file_extension": ".ts",
   "mimetype": "text/x.typescript",
   "name": "typescript",
   "nb_converter": "script",
   "pygments_lexer": "typescript",
   "version": "5.4.5"
  }
 },
 "nbformat": 4,
 "nbformat_minor": 5
}
