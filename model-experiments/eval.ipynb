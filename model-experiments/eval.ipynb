{
 "cells": [
  {
   "cell_type": "markdown",
   "id": "8539d2e7",
   "metadata": {},
   "source": [
    "To use this notebook, install poetry and do `poetry install` and set the env it creates as active in your editor, to start mlflow run `poetry run mlflow ui`"
   ]
  },
  {
   "cell_type": "code",
   "execution_count": 40,
   "id": "faa95db5",
   "metadata": {},
   "outputs": [],
   "source": [
    "from enum import Enum\n",
    "\n",
    "class Models(Enum):\n",
    "      mpnet = \"sentence-transformers/all-mpnet-base-v2\"\n",
    "      MiniLM_L6 = \"sentence-transformers/all-MiniLM-L6-v2\"\n",
    "      MiniLM_L12 = \"sentence-transformers/all-MiniLM-L12-v2\"\n",
    "      distilroberta = \"sentence-transformers/all-distilroberta-v1\"\n",
    "      gte = \"Supabase/gte-small\"\n",
    "\n",
    "# Select model to use here ⤵\n",
    "embedding_model = Models.gte"
   ]
  },
  {
   "cell_type": "code",
   "execution_count": 45,
   "id": "994c16c6",
   "metadata": {},
   "outputs": [],
   "source": [
    "from sentence_transformers import SentenceTransformer\n",
    "import json\n",
    "from safetensors import safe_open\n",
    "from safetensors.numpy import save_file\n",
    "import hashlib\n",
    "\n",
    "class EmbeddingStore:\n",
    "    _issues = {}\n",
    "    _embeddings = {}\n",
    "    _model = None\n",
    "    _model_name = None\n",
    "    _storeHash = None\n",
    "    def __init__(self, sources, model_name):\n",
    "        source_hashes = [hashlib.sha3_256(model_name.encode()).hexdigest()]\n",
    "        for source in sources:\n",
    "            f = open(f'./issues/{source}.json', 'r').read()\n",
    "            source_hashes.append(hashlib.sha3_256((source + f).encode()).hexdigest())\n",
    "            for entry in json.loads(f):\n",
    "                url = entry[\"html_url\"]\n",
    "                if \"pull\" in url:\n",
    "                    continue\n",
    "                self._issues[url] = entry\n",
    "        self._storeHash = hashlib.sha3_256(\"\".join(source_hashes).encode()).hexdigest()\n",
    "        self._model = SentenceTransformer(model_name)\n",
    "        self._model_name = model_name\n",
    "    \n",
    "    def gen_embeddings(self):\n",
    "        try:\n",
    "            with safe_open(f\"./embeddings/{self._storeHash}.safetensors\", framework=\"numpy\", device=\"cpu\") as f:\n",
    "                print(f\"Loading embeddings from {self._storeHash}.safetensors\")\n",
    "                for key in f.keys():\n",
    "                    self._embeddings[key] = f.get_tensor(key)\n",
    "                return\n",
    "        except FileNotFoundError:\n",
    "            pass\n",
    "        for url, issue in self._issues.items():\n",
    "            self._embeddings[url] = self._model.encode(f\"{issue['title']} {issue['body']}\")\n",
    "        save_file(self._embeddings, f\"./embeddings/{self._storeHash}.safetensors\")\n",
    "    \n",
    "    def query(self, question, top_k=5):\n",
    "        question_embedding = self._model.encode(question)\n",
    "        results = [(url, self._model.similarity(embedding, question_embedding)) for url, embedding in self._embeddings.items() if \"issue\" in url]\n",
    "        return sorted(results, key=lambda x: x[1], reverse=True)[:top_k]"
   ]
  },
  {
   "cell_type": "code",
   "execution_count": 42,
   "id": "b2b90743",
   "metadata": {},
   "outputs": [
    {
     "name": "stderr",
     "output_type": "stream",
     "text": [
      "/Users/actualwitch/Library/Caches/pypoetry/virtualenvs/model-experiments-HuNPz4NV-py3.12/lib/python3.12/site-packages/huggingface_hub/file_download.py:1132: FutureWarning: `resume_download` is deprecated and will be removed in version 1.0.0. Downloads always resume when possible. If you want to force a new download, use `force_download=True`.\n",
      "  warnings.warn(\n"
     ]
    },
    {
     "name": "stdout",
     "output_type": "stream",
     "text": [
      "Loading embeddings from bf9bdd63dedbabb48ccc9d2fcb1fd10e44c04cec4ff765c748ce92338919167f.safetensors\n"
     ]
    }
   ],
   "source": [
    "store = EmbeddingStore([\"honojs-hono\", \"honojs-middleware\", \"neondatabase-serverless\", \"drizzle-team-drizzle-kit-mirror\", \"drizzle-team-drizzle-orm\"], embedding_model.value)\n",
    "store.gen_embeddings()"
   ]
  },
  {
   "cell_type": "code",
   "execution_count": 43,
   "id": "e1c67100",
   "metadata": {},
   "outputs": [
    {
     "data": {
      "text/html": [
       "<div>\n",
       "<style scoped>\n",
       "    .dataframe tbody tr th:only-of-type {\n",
       "        vertical-align: middle;\n",
       "    }\n",
       "\n",
       "    .dataframe tbody tr th {\n",
       "        vertical-align: top;\n",
       "    }\n",
       "\n",
       "    .dataframe thead th {\n",
       "        text-align: right;\n",
       "    }\n",
       "</style>\n",
       "<table border=\"1\" class=\"dataframe\">\n",
       "  <thead>\n",
       "    <tr style=\"text-align: right;\">\n",
       "      <th></th>\n",
       "      <th>question</th>\n",
       "      <th>ground_truth</th>\n",
       "      <th>top_5_results</th>\n",
       "    </tr>\n",
       "  </thead>\n",
       "  <tbody>\n",
       "    <tr>\n",
       "      <th>0</th>\n",
       "      <td>Error: `RangeError: Responses with a WebSocket...</td>\n",
       "      <td>[https://github.com/honojs/hono/issues/2883]</td>\n",
       "      <td>[https://github.com/honojs/hono/issues/2883, h...</td>\n",
       "    </tr>\n",
       "    <tr>\n",
       "      <th>1</th>\n",
       "      <td>Error: TypeError: Cannot read properties of nu...</td>\n",
       "      <td>[https://github.com/honojs/hono/issues/2194]</td>\n",
       "      <td>[https://github.com/honojs/hono/issues/2194, h...</td>\n",
       "    </tr>\n",
       "    <tr>\n",
       "      <th>2</th>\n",
       "      <td>Error: Cookies Max-Age SHOULD NOT be greater t...</td>\n",
       "      <td>[https://github.com/honojs/hono/issues/2762]</td>\n",
       "      <td>[https://github.com/honojs/hono/issues/2762, h...</td>\n",
       "    </tr>\n",
       "  </tbody>\n",
       "</table>\n",
       "</div>"
      ],
      "text/plain": [
       "                                            question  \\\n",
       "0  Error: `RangeError: Responses with a WebSocket...   \n",
       "1  Error: TypeError: Cannot read properties of nu...   \n",
       "2  Error: Cookies Max-Age SHOULD NOT be greater t...   \n",
       "\n",
       "                                   ground_truth  \\\n",
       "0  [https://github.com/honojs/hono/issues/2883]   \n",
       "1  [https://github.com/honojs/hono/issues/2194]   \n",
       "2  [https://github.com/honojs/hono/issues/2762]   \n",
       "\n",
       "                                       top_5_results  \n",
       "0  [https://github.com/honojs/hono/issues/2883, h...  \n",
       "1  [https://github.com/honojs/hono/issues/2194, h...  \n",
       "2  [https://github.com/honojs/hono/issues/2762, h...  "
      ]
     },
     "execution_count": 43,
     "metadata": {},
     "output_type": "execute_result"
    }
   ],
   "source": [
    "import pandas as pd\n",
    "\n",
    "test_cases = [\n",
    "    [\n",
    "        \"Error: `RangeError: Responses with a WebSocket must have status code 101.`\",\n",
    "        \"https://github.com/honojs/hono/issues/2883\",\n",
    "    ],\n",
    "    [\n",
    "        \"Error: TypeError: Cannot read properties of null (reading 'isEscaped')\",\n",
    "        \"https://github.com/honojs/hono/issues/2194\",\n",
    "    ],\n",
    "    [\n",
    "        \"Error: Cookies Max-Age SHOULD NOT be greater than 400 days (34560000 seconds) in duration.\",\n",
    "        \"https://github.com/honojs/hono/issues/2762\",\n",
    "    ],\n",
    "]\n",
    "data = [\n",
    "    [query, [url], [url for (url, _) in store.query(query)]]\n",
    "    for [query, url] in test_cases\n",
    "]\n",
    "df = pd.DataFrame(data, columns=[\"question\", \"ground_truth\", \"top_5_results\"])\n",
    "df"
   ]
  },
  {
   "cell_type": "code",
   "execution_count": 44,
   "id": "62e45639",
   "metadata": {},
   "outputs": [
    {
     "name": "stderr",
     "output_type": "stream",
     "text": [
      "2024/06/12 21:36:13 INFO mlflow.models.evaluation.default_evaluator: Testing metrics on first row...\n"
     ]
    }
   ],
   "source": [
    "import mlflow\n",
    "\n",
    "mlflow.set_tracking_uri(\"http://localhost:5000\")\n",
    "mlflow.set_experiment(\"issue-similarity\")\n",
    "compact_name = embedding_model.value.split(\"/\")[-1]\n",
    "with mlflow.start_run(run_name=compact_name):\n",
    "    mlflow.evaluate(\n",
    "        data=df,\n",
    "        model_type=\"retriever\",\n",
    "        targets=\"ground_truth\",\n",
    "        predictions=\"top_5_results\",\n",
    "        evaluators=\"default\",\n",
    "    )"
   ]
  }
 ],
 "metadata": {
  "kernelspec": {
   "display_name": "Python 3 (ipykernel)",
   "language": "python",
   "name": "python3"
  },
  "language_info": {
   "codemirror_mode": {
    "name": "ipython",
    "version": 3
   },
   "file_extension": ".py",
   "mimetype": "text/x-python",
   "name": "python",
   "nbconvert_exporter": "python",
   "pygments_lexer": "ipython3",
   "version": "3.12.3"
  }
 },
 "nbformat": 4,
 "nbformat_minor": 5
}
